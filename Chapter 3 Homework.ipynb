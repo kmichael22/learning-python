{
 "cells": [
  {
   "cell_type": "markdown",
   "metadata": {},
   "source": [
    "### 1"
   ]
  },
  {
   "cell_type": "code",
   "execution_count": 3,
   "metadata": {},
   "outputs": [
    {
     "name": "stdout",
     "output_type": "stream",
     "text": [
      "Kaley \n",
      "Junior \n",
      "Myerstown\n",
      "Learn a new skill\n"
     ]
    }
   ],
   "source": [
    "print(\"\"\"Kaley \n",
    "Junior \n",
    "Myerstown\n",
    "Learn a new skill\"\"\")"
   ]
  },
  {
   "cell_type": "markdown",
   "metadata": {},
   "source": [
    "### 2"
   ]
  },
  {
   "cell_type": "code",
   "execution_count": 72,
   "metadata": {},
   "outputs": [
    {
     "name": "stdout",
     "output_type": "stream",
     "text": [
      "This is how you print a double quote (\"), a backslash (\\), and a lowercase o with a stroke (ø)\n",
      "A tab and a newline are printed using a \"\\t\" and \"\\n\" respectively\n"
     ]
    }
   ],
   "source": [
    "print(\"\"\"This is how you print a double quote (\\\"), a backslash (\\\\), and a lowercase o with a stroke (ø)\n",
    "A tab and a newline are printed using a \\\"\\\\t\\\" and \\\"\\\\n\\\" respectively\"\"\")"
   ]
  },
  {
   "cell_type": "markdown",
   "metadata": {},
   "source": [
    "### 3"
   ]
  },
  {
   "cell_type": "code",
   "execution_count": 75,
   "metadata": {},
   "outputs": [
    {
     "name": "stdout",
     "output_type": "stream",
     "text": [
      "super-duper-duper-duper-duper-duper-duper-duper-duper-duper-duper-fun\n",
      "r\n",
      "r\n"
     ]
    }
   ],
   "source": [
    "str = \"super-duper-duper-duper-duper-duper-duper-duper-duper-duper-duper-fun\"\n",
    "print (str)\n",
    "print (str[34])\n",
    "print (str[-35])"
   ]
  },
  {
   "cell_type": "markdown",
   "metadata": {},
   "source": [
    "### 4"
   ]
  },
  {
   "cell_type": "code",
   "execution_count": 77,
   "metadata": {},
   "outputs": [
    {
     "name": "stdout",
     "output_type": "stream",
     "text": [
      "10\n",
      "11\n"
     ]
    }
   ],
   "source": [
    "print (len(\"KaleyKaley\"))\n",
    "print (len(\"Kaley\\nKaley\"))"
   ]
  },
  {
   "cell_type": "markdown",
   "metadata": {},
   "source": [
    "### 5"
   ]
  },
  {
   "cell_type": "code",
   "execution_count": 106,
   "metadata": {},
   "outputs": [
    {
     "name": "stdout",
     "output_type": "stream",
     "text": [
      "bdfhjln\n",
      "hfd\n",
      "yvspmj\n",
      "yvspmj\n",
      "xr\n"
     ]
    }
   ],
   "source": [
    "print(\"abcdefghijklmnopqrstuvwxyz\"[1:14:2])\n",
    "print(\"abcdefghijklmnopqrstuvwxyz\"[7:2:-2])\n",
    "print(\"abcdefghijklmnopqrstuvwxyz\"[24:8:-3])\n",
    "print(\"abcdefghijklmnopqrstuvwxyz\"[24:8:-3])\n",
    "print(\"abcdefghijklmnopqrstuvwxyz\"[23:16:-6])"
   ]
  },
  {
   "cell_type": "markdown",
   "metadata": {},
   "source": [
    "### 6"
   ]
  },
  {
   "cell_type": "code",
   "execution_count": 105,
   "metadata": {},
   "outputs": [
    {
     "name": "stdout",
     "output_type": "stream",
     "text": [
      "Cats are very cool because they are very smart\n",
      "  cats are very cool because they are very smart  \n",
      "Number of times that are appears: 2\n",
      "True\n",
      "9\n",
      "14\n",
      "False\n",
      "CATS ARE VERY COOL BECAUSE THEY ARE VERY SMART\n"
     ]
    }
   ],
   "source": [
    "str = \"cats are very cool because they are very smart\" \n",
    "print(str.capitalize())\n",
    "print(str.center(50))\n",
    "substring = \"are\"\n",
    "count = str.count(substring)\n",
    "print(\"Number of times that are appears:\", count)\n",
    "print(str.endswith(\"t\"))\n",
    "print(str.find(\"very\"))\n",
    "print(str.index(\"cool\"))\n",
    "print(str.isalnum())\n",
    "print(str.upper())"
   ]
  },
  {
   "cell_type": "markdown",
   "metadata": {},
   "source": [
    "### 7"
   ]
  },
  {
   "cell_type": "code",
   "execution_count": 98,
   "metadata": {},
   "outputs": [
    {
     "name": "stdout",
     "output_type": "stream",
     "text": [
      "cheral01\n"
     ]
    }
   ],
   "source": [
    "firstName = \"Alina\"\n",
    "lastName = \"Chernigina\"\n",
    "print(lastName.lower()[:4] + firstName.lower()[:2] + \"01\")\n",
    "# if the person's last name is fewer than 4 characters, then it will include the person's full last name in the email"
   ]
  }
 ],
 "metadata": {
  "kernelspec": {
   "display_name": "Python 3",
   "language": "python",
   "name": "python3"
  },
  "language_info": {
   "codemirror_mode": {
    "name": "ipython",
    "version": 3
   },
   "file_extension": ".py",
   "mimetype": "text/x-python",
   "name": "python",
   "nbconvert_exporter": "python",
   "pygments_lexer": "ipython3",
   "version": "3.8.3"
  }
 },
 "nbformat": 4,
 "nbformat_minor": 4
}
